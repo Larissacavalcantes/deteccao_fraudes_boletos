{
 "cells": [
  {
   "cell_type": "code",
   "execution_count": 1,
   "id": "d67f669c-1fb7-442e-bdd0-91e11969b21f",
   "metadata": {},
   "outputs": [],
   "source": [
    "import numpy as np\n",
    "import pandas as pd\n",
    "import seaborn as sns\n",
    "import matplotlib.pyplot as plt\n",
    "import matplotlib.patches as mpatches\n",
    "from sklearn.tree import DecisionTreeClassifier\n",
    "from sklearn.model_selection import GridSearchCV\n",
    "from sklearn.neighbors import KNeighborsClassifier\n",
    "from sklearn.linear_model import LogisticRegression\n",
    "from sklearn.ensemble import RandomForestClassifier\n",
    "from sklearn.model_selection import cross_val_score\n",
    "from sklearn.model_selection import StratifiedKFold\n",
    "from sklearn.model_selection import train_test_split\n",
    "from sklearn.model_selection import cross_val_predict\n",
    "from sklearn.model_selection import RandomizedSearchCV\n",
    "from sklearn.model_selection import StratifiedShuffleSplit\n",
    "from sklearn.metrics import confusion_matrix\n",
    "from sklearn.metrics import average_precision_score, confusion_matrix\n",
    "from sklearn.metrics import precision_score, recall_score, f1_score, accuracy_score, classification_report\n",
    "from imblearn.over_sampling import SMOTE, RandomOverSampler\n",
    "from imblearn.under_sampling import NearMiss, RandomUnderSampler\n",
    "from collections import Counter\n",
    "from imblearn.pipeline import Pipeline\n",
    "from imblearn.pipeline import make_pipeline as imbalanced_make_pipeline\n",
    "from pprint import pprint\n",
    "import warnings\n",
    "warnings.filterwarnings(\"ignore\")"
   ]
  },
  {
   "cell_type": "code",
   "execution_count": 2,
   "id": "7c61dada-e6eb-4020-91a2-537a87279550",
   "metadata": {},
   "outputs": [],
   "source": [
    "df = pd.read_excel('dataset_case_boleto.xlsx')"
   ]
  },
  {
   "cell_type": "code",
   "execution_count": null,
   "id": "e147fba2-a633-456c-80c5-97f17c800769",
   "metadata": {},
   "outputs": [],
   "source": [
    "#Análise exploratória "
   ]
  },
  {
   "cell_type": "code",
   "execution_count": 3,
   "id": "f9bb9471-9053-4f77-a78f-1d3b2cd743d8",
   "metadata": {},
   "outputs": [
    {
     "data": {
      "text/html": [
       "<div>\n",
       "<style scoped>\n",
       "    .dataframe tbody tr th:only-of-type {\n",
       "        vertical-align: middle;\n",
       "    }\n",
       "\n",
       "    .dataframe tbody tr th {\n",
       "        vertical-align: top;\n",
       "    }\n",
       "\n",
       "    .dataframe thead th {\n",
       "        text-align: right;\n",
       "    }\n",
       "</style>\n",
       "<table border=\"1\" class=\"dataframe\">\n",
       "  <thead>\n",
       "    <tr style=\"text-align: right;\">\n",
       "      <th></th>\n",
       "      <th>mes_ref</th>\n",
       "      <th>company_id</th>\n",
       "      <th>tipo_doc</th>\n",
       "      <th>max_valor_boleto</th>\n",
       "      <th>avg_valor_boleto</th>\n",
       "      <th>valor_boleto_stdv</th>\n",
       "      <th>qtd_boleto_total</th>\n",
       "      <th>total_valor_boleto</th>\n",
       "      <th>qtd_boleto_pago</th>\n",
       "      <th>qtd_boleto_estorno</th>\n",
       "      <th>qnt_cc_total</th>\n",
       "      <th>tempo_credenciamento</th>\n",
       "      <th>conta_bnk_repetida</th>\n",
       "      <th>fraude</th>\n",
       "    </tr>\n",
       "  </thead>\n",
       "  <tbody>\n",
       "    <tr>\n",
       "      <th>0</th>\n",
       "      <td>2020-03-01</td>\n",
       "      <td>5e74d202d1498c5bdf8aafe3</td>\n",
       "      <td>cnpj</td>\n",
       "      <td>6000.0</td>\n",
       "      <td>4884.61</td>\n",
       "      <td>2122.83</td>\n",
       "      <td>13</td>\n",
       "      <td>63500.0</td>\n",
       "      <td>10</td>\n",
       "      <td>0</td>\n",
       "      <td>35</td>\n",
       "      <td>11</td>\n",
       "      <td>0</td>\n",
       "      <td>0</td>\n",
       "    </tr>\n",
       "    <tr>\n",
       "      <th>1</th>\n",
       "      <td>2020-03-01</td>\n",
       "      <td>5e78dafeb5ac867c7e85eb5e</td>\n",
       "      <td>cnpj</td>\n",
       "      <td>1800.0</td>\n",
       "      <td>1800.00</td>\n",
       "      <td>0.00</td>\n",
       "      <td>2</td>\n",
       "      <td>3600.0</td>\n",
       "      <td>0</td>\n",
       "      <td>0</td>\n",
       "      <td>0</td>\n",
       "      <td>11</td>\n",
       "      <td>0</td>\n",
       "      <td>0</td>\n",
       "    </tr>\n",
       "    <tr>\n",
       "      <th>2</th>\n",
       "      <td>2020-03-01</td>\n",
       "      <td>5e73e21359193c2f123c1076</td>\n",
       "      <td>cnpj</td>\n",
       "      <td>159.9</td>\n",
       "      <td>104.90</td>\n",
       "      <td>77.78</td>\n",
       "      <td>2</td>\n",
       "      <td>209.8</td>\n",
       "      <td>0</td>\n",
       "      <td>0</td>\n",
       "      <td>14</td>\n",
       "      <td>11</td>\n",
       "      <td>0</td>\n",
       "      <td>0</td>\n",
       "    </tr>\n",
       "    <tr>\n",
       "      <th>3</th>\n",
       "      <td>2020-04-01</td>\n",
       "      <td>5e7262c49d55ea5dbea59d57</td>\n",
       "      <td>cnpj</td>\n",
       "      <td>600.0</td>\n",
       "      <td>600.00</td>\n",
       "      <td>0.00</td>\n",
       "      <td>3</td>\n",
       "      <td>1800.0</td>\n",
       "      <td>0</td>\n",
       "      <td>0</td>\n",
       "      <td>18</td>\n",
       "      <td>11</td>\n",
       "      <td>0</td>\n",
       "      <td>0</td>\n",
       "    </tr>\n",
       "    <tr>\n",
       "      <th>4</th>\n",
       "      <td>2020-04-01</td>\n",
       "      <td>5e610d9f66945c0f82dd357f</td>\n",
       "      <td>cnpj</td>\n",
       "      <td>2941.0</td>\n",
       "      <td>1764.60</td>\n",
       "      <td>657.63</td>\n",
       "      <td>5</td>\n",
       "      <td>8823.0</td>\n",
       "      <td>2</td>\n",
       "      <td>0</td>\n",
       "      <td>65</td>\n",
       "      <td>12</td>\n",
       "      <td>0</td>\n",
       "      <td>0</td>\n",
       "    </tr>\n",
       "  </tbody>\n",
       "</table>\n",
       "</div>"
      ],
      "text/plain": [
       "     mes_ref                company_id tipo_doc  max_valor_boleto  \\\n",
       "0 2020-03-01  5e74d202d1498c5bdf8aafe3     cnpj            6000.0   \n",
       "1 2020-03-01  5e78dafeb5ac867c7e85eb5e     cnpj            1800.0   \n",
       "2 2020-03-01  5e73e21359193c2f123c1076     cnpj             159.9   \n",
       "3 2020-04-01  5e7262c49d55ea5dbea59d57     cnpj             600.0   \n",
       "4 2020-04-01  5e610d9f66945c0f82dd357f     cnpj            2941.0   \n",
       "\n",
       "   avg_valor_boleto  valor_boleto_stdv  qtd_boleto_total  total_valor_boleto  \\\n",
       "0           4884.61            2122.83                13             63500.0   \n",
       "1           1800.00               0.00                 2              3600.0   \n",
       "2            104.90              77.78                 2               209.8   \n",
       "3            600.00               0.00                 3              1800.0   \n",
       "4           1764.60             657.63                 5              8823.0   \n",
       "\n",
       "   qtd_boleto_pago  qtd_boleto_estorno  qnt_cc_total  tempo_credenciamento  \\\n",
       "0               10                   0            35                    11   \n",
       "1                0                   0             0                    11   \n",
       "2                0                   0            14                    11   \n",
       "3                0                   0            18                    11   \n",
       "4                2                   0            65                    12   \n",
       "\n",
       "   conta_bnk_repetida  fraude  \n",
       "0                   0       0  \n",
       "1                   0       0  \n",
       "2                   0       0  \n",
       "3                   0       0  \n",
       "4                   0       0  "
      ]
     },
     "execution_count": 3,
     "metadata": {},
     "output_type": "execute_result"
    }
   ],
   "source": [
    "df.head()"
   ]
  },
  {
   "cell_type": "code",
   "execution_count": 4,
   "id": "62ee89c8-7bd6-48cf-8ecd-c9c43cdce320",
   "metadata": {},
   "outputs": [
    {
     "data": {
      "text/plain": [
       "(9277, 14)"
      ]
     },
     "execution_count": 4,
     "metadata": {},
     "output_type": "execute_result"
    }
   ],
   "source": [
    "df.shape"
   ]
  },
  {
   "cell_type": "code",
   "execution_count": 5,
   "id": "cc36fa08-7f30-447a-9855-3ae98de32783",
   "metadata": {},
   "outputs": [
    {
     "name": "stdout",
     "output_type": "stream",
     "text": [
      "<class 'pandas.core.frame.DataFrame'>\n",
      "RangeIndex: 9277 entries, 0 to 9276\n",
      "Data columns (total 14 columns):\n",
      " #   Column                Non-Null Count  Dtype         \n",
      "---  ------                --------------  -----         \n",
      " 0   mes_ref               9277 non-null   datetime64[ns]\n",
      " 1   company_id            9277 non-null   object        \n",
      " 2   tipo_doc              9277 non-null   object        \n",
      " 3   max_valor_boleto      9277 non-null   float64       \n",
      " 4   avg_valor_boleto      9277 non-null   float64       \n",
      " 5   valor_boleto_stdv     9277 non-null   float64       \n",
      " 6   qtd_boleto_total      9277 non-null   int64         \n",
      " 7   total_valor_boleto    9277 non-null   float64       \n",
      " 8   qtd_boleto_pago       9277 non-null   int64         \n",
      " 9   qtd_boleto_estorno    9277 non-null   int64         \n",
      " 10  qnt_cc_total          9277 non-null   int64         \n",
      " 11  tempo_credenciamento  9277 non-null   int64         \n",
      " 12  conta_bnk_repetida    9277 non-null   int64         \n",
      " 13  fraude                9277 non-null   int64         \n",
      "dtypes: datetime64[ns](1), float64(4), int64(7), object(2)\n",
      "memory usage: 1014.8+ KB\n"
     ]
    }
   ],
   "source": [
    "df.info()"
   ]
  },
  {
   "cell_type": "code",
   "execution_count": 6,
   "id": "158238be-d511-441d-bcfd-2037a4e4f7ed",
   "metadata": {},
   "outputs": [
    {
     "data": {
      "text/html": [
       "<div>\n",
       "<style scoped>\n",
       "    .dataframe tbody tr th:only-of-type {\n",
       "        vertical-align: middle;\n",
       "    }\n",
       "\n",
       "    .dataframe tbody tr th {\n",
       "        vertical-align: top;\n",
       "    }\n",
       "\n",
       "    .dataframe thead th {\n",
       "        text-align: right;\n",
       "    }\n",
       "</style>\n",
       "<table border=\"1\" class=\"dataframe\">\n",
       "  <thead>\n",
       "    <tr style=\"text-align: right;\">\n",
       "      <th></th>\n",
       "      <th>max_valor_boleto</th>\n",
       "      <th>avg_valor_boleto</th>\n",
       "      <th>valor_boleto_stdv</th>\n",
       "      <th>qtd_boleto_total</th>\n",
       "      <th>total_valor_boleto</th>\n",
       "      <th>qtd_boleto_pago</th>\n",
       "      <th>qtd_boleto_estorno</th>\n",
       "      <th>qnt_cc_total</th>\n",
       "      <th>tempo_credenciamento</th>\n",
       "      <th>conta_bnk_repetida</th>\n",
       "      <th>fraude</th>\n",
       "    </tr>\n",
       "  </thead>\n",
       "  <tbody>\n",
       "    <tr>\n",
       "      <th>count</th>\n",
       "      <td>9.277000e+03</td>\n",
       "      <td>9.277000e+03</td>\n",
       "      <td>9.277000e+03</td>\n",
       "      <td>9277.000000</td>\n",
       "      <td>9.277000e+03</td>\n",
       "      <td>9277.000000</td>\n",
       "      <td>9277.000000</td>\n",
       "      <td>9277.000000</td>\n",
       "      <td>9277.000000</td>\n",
       "      <td>9277.000000</td>\n",
       "      <td>9277.000000</td>\n",
       "    </tr>\n",
       "    <tr>\n",
       "      <th>mean</th>\n",
       "      <td>1.364116e+04</td>\n",
       "      <td>6.102405e+03</td>\n",
       "      <td>4.973007e+03</td>\n",
       "      <td>11.086774</td>\n",
       "      <td>2.772717e+04</td>\n",
       "      <td>4.499623</td>\n",
       "      <td>0.157917</td>\n",
       "      <td>6.037728</td>\n",
       "      <td>6.331034</td>\n",
       "      <td>0.107255</td>\n",
       "      <td>0.171823</td>\n",
       "    </tr>\n",
       "    <tr>\n",
       "      <th>std</th>\n",
       "      <td>3.073980e+05</td>\n",
       "      <td>1.390150e+05</td>\n",
       "      <td>1.921443e+05</td>\n",
       "      <td>40.794549</td>\n",
       "      <td>3.235246e+05</td>\n",
       "      <td>22.885944</td>\n",
       "      <td>0.876460</td>\n",
       "      <td>18.828619</td>\n",
       "      <td>4.468837</td>\n",
       "      <td>0.309453</td>\n",
       "      <td>0.377247</td>\n",
       "    </tr>\n",
       "    <tr>\n",
       "      <th>min</th>\n",
       "      <td>1.000000e+00</td>\n",
       "      <td>1.000000e+00</td>\n",
       "      <td>0.000000e+00</td>\n",
       "      <td>1.000000</td>\n",
       "      <td>1.000000e+00</td>\n",
       "      <td>0.000000</td>\n",
       "      <td>0.000000</td>\n",
       "      <td>0.000000</td>\n",
       "      <td>0.000000</td>\n",
       "      <td>0.000000</td>\n",
       "      <td>0.000000</td>\n",
       "    </tr>\n",
       "    <tr>\n",
       "      <th>25%</th>\n",
       "      <td>1.600000e+02</td>\n",
       "      <td>1.315000e+02</td>\n",
       "      <td>0.000000e+00</td>\n",
       "      <td>1.000000</td>\n",
       "      <td>2.682000e+02</td>\n",
       "      <td>0.000000</td>\n",
       "      <td>0.000000</td>\n",
       "      <td>0.000000</td>\n",
       "      <td>1.000000</td>\n",
       "      <td>0.000000</td>\n",
       "      <td>0.000000</td>\n",
       "    </tr>\n",
       "    <tr>\n",
       "      <th>50%</th>\n",
       "      <td>5.202000e+02</td>\n",
       "      <td>3.388800e+02</td>\n",
       "      <td>3.809000e+01</td>\n",
       "      <td>3.000000</td>\n",
       "      <td>1.489000e+03</td>\n",
       "      <td>1.000000</td>\n",
       "      <td>0.000000</td>\n",
       "      <td>0.000000</td>\n",
       "      <td>8.000000</td>\n",
       "      <td>0.000000</td>\n",
       "      <td>0.000000</td>\n",
       "    </tr>\n",
       "    <tr>\n",
       "      <th>75%</th>\n",
       "      <td>4.463680e+03</td>\n",
       "      <td>2.123420e+03</td>\n",
       "      <td>4.618800e+02</td>\n",
       "      <td>7.000000</td>\n",
       "      <td>1.068454e+04</td>\n",
       "      <td>2.000000</td>\n",
       "      <td>0.000000</td>\n",
       "      <td>4.000000</td>\n",
       "      <td>11.000000</td>\n",
       "      <td>0.000000</td>\n",
       "      <td>0.000000</td>\n",
       "    </tr>\n",
       "    <tr>\n",
       "      <th>max</th>\n",
       "      <td>2.147484e+07</td>\n",
       "      <td>1.123742e+07</td>\n",
       "      <td>1.447790e+07</td>\n",
       "      <td>1103.000000</td>\n",
       "      <td>2.247484e+07</td>\n",
       "      <td>685.000000</td>\n",
       "      <td>25.000000</td>\n",
       "      <td>528.000000</td>\n",
       "      <td>14.000000</td>\n",
       "      <td>1.000000</td>\n",
       "      <td>1.000000</td>\n",
       "    </tr>\n",
       "  </tbody>\n",
       "</table>\n",
       "</div>"
      ],
      "text/plain": [
       "       max_valor_boleto  avg_valor_boleto  valor_boleto_stdv  \\\n",
       "count      9.277000e+03      9.277000e+03       9.277000e+03   \n",
       "mean       1.364116e+04      6.102405e+03       4.973007e+03   \n",
       "std        3.073980e+05      1.390150e+05       1.921443e+05   \n",
       "min        1.000000e+00      1.000000e+00       0.000000e+00   \n",
       "25%        1.600000e+02      1.315000e+02       0.000000e+00   \n",
       "50%        5.202000e+02      3.388800e+02       3.809000e+01   \n",
       "75%        4.463680e+03      2.123420e+03       4.618800e+02   \n",
       "max        2.147484e+07      1.123742e+07       1.447790e+07   \n",
       "\n",
       "       qtd_boleto_total  total_valor_boleto  qtd_boleto_pago  \\\n",
       "count       9277.000000        9.277000e+03      9277.000000   \n",
       "mean          11.086774        2.772717e+04         4.499623   \n",
       "std           40.794549        3.235246e+05        22.885944   \n",
       "min            1.000000        1.000000e+00         0.000000   \n",
       "25%            1.000000        2.682000e+02         0.000000   \n",
       "50%            3.000000        1.489000e+03         1.000000   \n",
       "75%            7.000000        1.068454e+04         2.000000   \n",
       "max         1103.000000        2.247484e+07       685.000000   \n",
       "\n",
       "       qtd_boleto_estorno  qnt_cc_total  tempo_credenciamento  \\\n",
       "count         9277.000000   9277.000000           9277.000000   \n",
       "mean             0.157917      6.037728              6.331034   \n",
       "std              0.876460     18.828619              4.468837   \n",
       "min              0.000000      0.000000              0.000000   \n",
       "25%              0.000000      0.000000              1.000000   \n",
       "50%              0.000000      0.000000              8.000000   \n",
       "75%              0.000000      4.000000             11.000000   \n",
       "max             25.000000    528.000000             14.000000   \n",
       "\n",
       "       conta_bnk_repetida       fraude  \n",
       "count         9277.000000  9277.000000  \n",
       "mean             0.107255     0.171823  \n",
       "std              0.309453     0.377247  \n",
       "min              0.000000     0.000000  \n",
       "25%              0.000000     0.000000  \n",
       "50%              0.000000     0.000000  \n",
       "75%              0.000000     0.000000  \n",
       "max              1.000000     1.000000  "
      ]
     },
     "execution_count": 6,
     "metadata": {},
     "output_type": "execute_result"
    }
   ],
   "source": [
    "df.describe()"
   ]
  },
  {
   "cell_type": "code",
   "execution_count": 7,
   "id": "798794a3-304a-44ec-a399-1bcdd7b2cf8a",
   "metadata": {},
   "outputs": [
    {
     "name": "stdout",
     "output_type": "stream",
     "text": [
      "Número de transações válidas: 7683\n",
      "Equivale a 82.82% do total de transações\n",
      "                                          \n",
      "Número de transações fraudulentas: 1594\n",
      "Equivale a 17.18% do total de transações\n",
      "\n"
     ]
    },
    {
     "data": {
      "image/png": "[encoded data removed]",
      "text/plain": [
       "<Figure size 432x288 with 1 Axes>"
      ]
     },
     "metadata": {
      "needs_background": "light"
     },
     "output_type": "display_data"
    }
   ],
   "source": [
    "print('Número de transações válidas: {}'.format(len(df[df['fraude'] == 0])))\n",
    "print(f'Equivale a {round(df.fraude.value_counts(normalize=True)[0]*100, 2)}% do total de transações')\n",
    "print('   ' * 14)\n",
    "print('Número de transações fraudulentas: {}'.format(len(df[df['fraude'] == 1])))\n",
    "print(f'Equivale a {round(df.fraude.value_counts(normalize=True)[1]*100, 2)}% do total de transações\\n')\n",
    "\n",
    "plt.figure(figsize=(6,4))\n",
    "\n",
    "sns.countplot(df.fraude)\n",
    "\n",
    "plt.title('Distribuição das classes nas transações', fontweight='bold', fontsize=14)\n",
    "\n",
    "plt.show()"
   ]
  },
  {
   "cell_type": "code",
   "execution_count": 10,
   "id": "17154ab7-2588-4fb3-8ee4-1f0d6ba703a5",
   "metadata": {},
   "outputs": [
    {
     "data": {
      "image/png": "[encoded data removed]",
      "text/plain": [
       "<Figure size 1008x720 with 12 Axes>"
      ]
     },
     "metadata": {
      "needs_background": "light"
     },
     "output_type": "display_data"
    }
   ],
   "source": [
    "num_plots = len(df.iloc[:,3:13].values)\n",
    "\n",
    "df_class_0 = df[df.fraude == 0]\n",
    "df_class_1 = df[df.fraude == 1]\n",
    "\n",
    "nrow = 3\n",
    "ncol = 4\n",
    "fig, ax = plt.subplots(nrows=nrow, ncols=ncol, figsize=(14,10))\n",
    "fig.subplots_adjust(hspace=1, wspace=1)\n",
    "\n",
    "idx = 0\n",
    "for col in df.iloc[:,3:13]:\n",
    "    plt.rcParams[\"axes.labelsize\"] = 3\n",
    "    idx += 1\n",
    "    plt.subplot(nrow, ncol, idx)\n",
    "    sns.kdeplot(df_class_0[col], label=\"Não Fraude\", shade=True, color='blue')\n",
    "    sns.kdeplot(df_class_1[col], label=\"Fraude\", shade=True, color='red')\n",
    "    plt.title(col, fontsize=12)\n",
    "    plt.legend(fontsize=10)\n",
    "plt.tight_layout()"
   ]
  },
  {
   "cell_type": "code",
   "execution_count": 11,
   "id": "39fef62f-599d-4984-9d2e-861bb2e6fbfa",
   "metadata": {},
   "outputs": [
    {
     "data": {
      "text/plain": [
       "tipo_doc\n",
       "cnpj      95\n",
       "cpf     1499\n",
       "Name: fraude, dtype: int64"
      ]
     },
     "execution_count": 11,
     "metadata": {},
     "output_type": "execute_result"
    }
   ],
   "source": [
    "df.groupby('tipo_doc')['fraude'].sum()"
   ]
  },
  {
   "cell_type": "code",
   "execution_count": 12,
   "id": "6a01d614-1645-4efd-96e9-6ade21139baa",
   "metadata": {},
   "outputs": [
    {
     "data": {
      "text/plain": [
       "2021-02-01    1423\n",
       "2021-01-01    1027\n",
       "2020-12-01     817\n",
       "2020-11-01     792\n",
       "2020-07-01     771\n",
       "2020-06-01     739\n",
       "2020-08-01     680\n",
       "2020-09-01     679\n",
       "2020-05-01     649\n",
       "2020-10-01     638\n",
       "2021-03-01     443\n",
       "2020-04-01     420\n",
       "2020-03-01     174\n",
       "2020-02-01      17\n",
       "2020-01-01       8\n",
       "Name: mes_ref, dtype: int64"
      ]
     },
     "execution_count": 12,
     "metadata": {},
     "output_type": "execute_result"
    }
   ],
   "source": [
    "df['mes_ref'].value_counts()"
   ]
  },
  {
   "cell_type": "code",
   "execution_count": 13,
   "id": "11c99856-7570-462b-9d04-5bb8d345d03d",
   "metadata": {},
   "outputs": [
    {
     "data": {
      "text/plain": [
       "mes_ref\n",
       "2020-01-01      0\n",
       "2020-02-01      0\n",
       "2020-03-01      0\n",
       "2020-04-01      1\n",
       "2020-05-01      2\n",
       "2020-06-01      8\n",
       "2020-07-01     30\n",
       "2020-08-01     42\n",
       "2020-09-01     82\n",
       "2020-10-01     50\n",
       "2020-11-01    103\n",
       "2020-12-01    286\n",
       "2021-01-01    570\n",
       "2021-02-01    402\n",
       "2021-03-01     18\n",
       "Name: fraude, dtype: int64"
      ]
     },
     "execution_count": 13,
     "metadata": {},
     "output_type": "execute_result"
    }
   ],
   "source": [
    "df.groupby('mes_ref')['fraude'].sum()"
   ]
  },
  {
   "cell_type": "code",
   "execution_count": 14,
   "id": "87784ac5-c69a-4092-b4bb-9e1a8ada1e12",
   "metadata": {},
   "outputs": [
    {
     "data": {
      "image/png": "[encoded data removed]",
      "text/plain": [
       "<Figure size 720x648 with 2 Axes>"
      ]
     },
     "metadata": {
      "needs_background": "light"
     },
     "output_type": "display_data"
    }
   ],
   "source": [
    "correlation = df.corr()\n",
    "mask = np.zeros_like(correlation, dtype=np.bool)\n",
    "mask[np.triu_indices_from(mask)] = True\n",
    "f, ax = plt.subplots(figsize=(10, 9))\n",
    "plot = sns.heatmap(correlation, mask = mask, vmax=.9, center = 0, annot = True, square = True)"
   ]
  },
  {
   "cell_type": "code",
   "execution_count": 15,
   "id": "cdf8657b-beb4-47e7-86b3-500b358b8513",
   "metadata": {},
   "outputs": [
    {
     "data": {
      "text/plain": [
       "fraude                  1.000000\n",
       "conta_bnk_repetida      0.460841\n",
       "qtd_boleto_estorno      0.257995\n",
       "total_valor_boleto      0.069590\n",
       "max_valor_boleto        0.039766\n",
       "avg_valor_boleto        0.036226\n",
       "valor_boleto_stdv       0.022757\n",
       "qtd_boleto_total        0.010204\n",
       "qtd_boleto_pago        -0.074525\n",
       "qnt_cc_total           -0.145553\n",
       "tempo_credenciamento   -0.509316\n",
       "Name: fraude, dtype: float64"
      ]
     },
     "execution_count": 15,
     "metadata": {},
     "output_type": "execute_result"
    }
   ],
   "source": [
    "df.corr()['fraude'].sort_values(ascending=False)"
   ]
  },
  {
   "cell_type": "code",
   "execution_count": null,
   "id": "add38562-caa4-4a34-94e5-18c88f3502ba",
   "metadata": {},
   "outputs": [],
   "source": []
  },
  {
   "cell_type": "code",
   "execution_count": null,
   "id": "3f392a5e-dbf7-4c2a-8860-42e39c35d892",
   "metadata": {},
   "outputs": [],
   "source": []
  },
  {
   "cell_type": "code",
   "execution_count": null,
   "id": "ab7920c8-74a3-4d73-8079-5f6cd1026030",
   "metadata": {},
   "outputs": [],
   "source": [
    "# Modelo Machine Learning de classificação\n",
    "# Objetivo: de detectar fraudes de boletos"
   ]
  },
  {
   "cell_type": "code",
   "execution_count": 16,
   "id": "b5f2a3e7-1679-4d48-b526-5702c17203a3",
   "metadata": {},
   "outputs": [],
   "source": [
    "df_train, df_test = train_test_split(df, test_size=0.2, random_state=42, shuffle=True)"
   ]
  },
  {
   "cell_type": "code",
   "execution_count": 17,
   "id": "9786aa01-a722-4173-97cd-ea4b1bbeca09",
   "metadata": {},
   "outputs": [
    {
     "data": {
      "text/plain": [
       "0    0.824552\n",
       "1    0.175448\n",
       "Name: fraude, dtype: float64"
      ]
     },
     "execution_count": 17,
     "metadata": {},
     "output_type": "execute_result"
    }
   ],
   "source": [
    "df_train.fraude.value_counts(normalize=True)"
   ]
  },
  {
   "cell_type": "code",
   "execution_count": 18,
   "id": "0d55476a-f6c7-4c0a-94c6-b9a5f506a2c4",
   "metadata": {},
   "outputs": [
    {
     "data": {
      "text/plain": [
       "0    0.842672\n",
       "1    0.157328\n",
       "Name: fraude, dtype: float64"
      ]
     },
     "execution_count": 18,
     "metadata": {},
     "output_type": "execute_result"
    }
   ],
   "source": [
    "df_test.fraude.value_counts(normalize=True)"
   ]
  },
  {
   "cell_type": "code",
   "execution_count": 19,
   "id": "43eb69eb-488a-4ff7-b73b-6fd22d2ea6c4",
   "metadata": {},
   "outputs": [],
   "source": [
    "X = df_train.iloc[:,7:13]\n",
    "y = df_train.iloc[:,13]\n",
    "\n",
    "StratifKfold = StratifiedKFold(n_splits=5, shuffle=True, random_state=42)\n",
    "\n",
    "for train_index, val_index in StratifKfold.split(X, y):\n",
    "    X_train, X_val = X.iloc[train_index], X.iloc[val_index]\n",
    "    y_train, y_val = y.iloc[train_index], y.iloc[val_index]"
   ]
  },
  {
   "cell_type": "code",
   "execution_count": 23,
   "id": "ff3af7ab-b573-4711-9c3f-19c0670a694c",
   "metadata": {},
   "outputs": [
    {
     "name": "stdout",
     "output_type": "stream",
     "text": [
      "Dimensões: ((5937, 6), (1484, 6), (5937,), (1484,))\n",
      "\n",
      "Proporção do df_train para fraude = 1: 0.1754\n",
      "Proporção de X_train para fraude = 1:  0.1753\n",
      "Proporção de X_val para fraude = 1:    0.1759\n"
     ]
    }
   ],
   "source": [
    "print(f'Dimensões: {X_train.shape, X_val.shape, y_train.shape, y_val.shape}\\n')\n",
    "print(f\"Proporção do df_train para fraude = 1: {round(len(df_train[df_train.fraude==1]) / df_train.shape[0], 4)}\")\n",
    "print(f\"Proporção de X_train para fraude = 1:  {round(len(y_train[y_train==1]) / X_train.shape[0], 4)}\")\n",
    "print(f\"Proporção de X_val para fraude = 1:    {round(len(y_val[y_val==1]) / X_val.shape[0], 4)}\")"
   ]
  },
  {
   "cell_type": "code",
   "execution_count": 26,
   "id": "eabd707c-235d-4b74-af4c-b07bf37eaeae",
   "metadata": {},
   "outputs": [
    {
     "name": "stdout",
     "output_type": "stream",
     "text": [
      "Dados de TREINO:\n",
      "------------------------------------------\n",
      "Modelo:    Regressão Logística\n",
      "accuracy:  0.8500926393801583\n",
      "precision: 0.5878928987194412\n",
      "recall:    0.4851104707012488\n",
      "f1:        0.531578947368421\n",
      "\n",
      "------------------------------------------\n",
      "------------------------------------------\n",
      "\n",
      "Nos dados de VALIDAÇÃO:\n",
      "------------------------------------------\n",
      "Modelo:    Regressão Logística\n",
      "accuracy:  0.8470350404312669\n",
      "precision: 0.5801886792452831\n",
      "recall:    0.47126436781609193\n",
      "f1:        0.5200845665961945\n"
     ]
    }
   ],
   "source": [
    "logReg = LogisticRegression()\n",
    "\n",
    "logReg.fit(X_train, y_train)\n",
    "\n",
    "y_pred_base_train = logReg.predict(X_train)\n",
    "\n",
    "y_pred_base_val = logReg.predict(X_val)\n",
    "\n",
    "print('Dados de TREINO:')\n",
    "print('---' * 14)\n",
    "print('Modelo:    Regressão Logística')\n",
    "print(f\"accuracy:  {accuracy_score(y_train, y_pred_base_train)}\")\n",
    "print(f\"precision: {precision_score(y_train, y_pred_base_train)}\")\n",
    "print(f\"recall:    {recall_score(y_train, y_pred_base_train)}\")\n",
    "print(f\"f1:        {f1_score(y_train, y_pred_base_train)}\")\n",
    "print()\n",
    "print('---' * 14)\n",
    "print('---' * 14)\n",
    "print()\n",
    "print('Dados de VALIDAÇÃO:')\n",
    "print('---' * 14)\n",
    "print('Modelo:    Regressão Logística')\n",
    "print(f\"accuracy:  {accuracy_score(y_val, y_pred_base_val)}\")\n",
    "print(f\"precision: {precision_score(y_val, y_pred_base_val)}\")\n",
    "print(f\"recall:    {recall_score(y_val, y_pred_base_val)}\")\n",
    "print(f\"f1:        {f1_score(y_val, y_pred_base_val)}\")"
   ]
  },
  {
   "cell_type": "code",
   "execution_count": null,
   "id": "75ac15ef-2e7d-4359-a94c-f700cc8a7848",
   "metadata": {},
   "outputs": [],
   "source": [
    "# Métodos de reamostragem\n",
    "# Objtivo: modificar a estrutura dos dados de treino para um modelo de classificação com classe desbalanceada."
   ]
  },
  {
   "cell_type": "code",
   "execution_count": 27,
   "id": "79d4b0c6-7637-41ba-9c01-2a619fd5bfb6",
   "metadata": {},
   "outputs": [],
   "source": [
    "classifiers = {\n",
    "    \"LogisiticRegression\": LogisticRegression(),\n",
    "    \"KNearest\": KNeighborsClassifier(),\n",
    "    \"DecisionTreeClassifier\": DecisionTreeClassifier(), \n",
    "    \"Random Forest\": RandomForestClassifier()\n",
    "}"
   ]
  },
  {
   "cell_type": "code",
   "execution_count": 28,
   "id": "f3926716-7a32-4e6d-b660-18f0c0d9c071",
   "metadata": {},
   "outputs": [
    {
     "name": "stdout",
     "output_type": "stream",
     "text": [
      "Counter({0: 1041, 1: 1041})\n"
     ]
    }
   ],
   "source": [
    "undersample = NearMiss()\n",
    "\n",
    "X_under, y_under = undersample.fit_resample(X_train, y_train)\n",
    "\n",
    "counter = Counter(y_under)\n",
    "print(counter)"
   ]
  },
  {
   "cell_type": "code",
   "execution_count": 29,
   "id": "ff3780ca-6eb3-44e6-8873-cfe2c36f70e6",
   "metadata": {},
   "outputs": [
    {
     "name": "stdout",
     "output_type": "stream",
     "text": [
      "Modelo:    LogisiticRegression\n",
      "\n",
      "accuracy:  0.8645552560646901\n",
      "precision: 0.5735294117647058\n",
      "recall:    0.896551724137931\n",
      "f1:        0.6995515695067264\n",
      "------------------------------------------\n",
      "------------------------------------------\n",
      "Modelo:    KNearest\n",
      "\n",
      "accuracy:  0.6212938005390836\n",
      "precision: 0.30479896238651105\n",
      "recall:    0.9003831417624522\n",
      "f1:        0.4554263565891474\n",
      "------------------------------------------\n",
      "------------------------------------------\n",
      "Modelo:    DecisionTreeClassifier\n",
      "\n",
      "accuracy:  0.805256064690027\n",
      "precision: 0.4723320158102767\n",
      "recall:    0.9157088122605364\n",
      "f1:        0.6232073011734028\n",
      "------------------------------------------\n",
      "------------------------------------------\n",
      "Modelo:    Random Forest\n",
      "\n",
      "accuracy:  0.8477088948787062\n",
      "precision: 0.5395033860045146\n",
      "recall:    0.9157088122605364\n",
      "f1:        0.6789772727272727\n",
      "------------------------------------------\n",
      "------------------------------------------\n"
     ]
    }
   ],
   "source": [
    "for nome, model in classifiers.items():\n",
    "    \n",
    "    model.fit(X_under, y_under)\n",
    "    y_pred = model.predict(X_val)\n",
    "    \n",
    "    print(f'Modelo:    {nome}\\n')\n",
    "    print(f\"accuracy:  {accuracy_score(y_val, y_pred)}\")\n",
    "    print(f\"precision: {precision_score(y_val, y_pred)}\")\n",
    "    print(f\"recall:    {recall_score(y_val, y_pred)}\")\n",
    "    print(f\"f1:        {f1_score(y_val, y_pred)}\")\n",
    "    print('---' * 14)\n",
    "    print('---' * 14)"
   ]
  },
  {
   "cell_type": "code",
   "execution_count": 30,
   "id": "3235d015-b3da-474a-80e0-8035c8a57446",
   "metadata": {},
   "outputs": [
    {
     "name": "stdout",
     "output_type": "stream",
     "text": [
      "Counter({0: 4896, 1: 4896})\n"
     ]
    }
   ],
   "source": [
    "oversample = RandomOverSampler(sampling_strategy='minority')\n",
    "\n",
    "X_over, y_over = oversample.fit_resample(X_train, y_train)\n",
    "\n",
    "counter = Counter(y_over)\n",
    "print(counter)"
   ]
  },
  {
   "cell_type": "code",
   "execution_count": 32,
   "id": "6c26161c-f443-45d1-830a-d1f5391edbe6",
   "metadata": {},
   "outputs": [
    {
     "name": "stdout",
     "output_type": "stream",
     "text": [
      "Modelo:    LogisiticRegression\n",
      "\n",
      "accuracy:  0.8012129380053908\n",
      "precision: 0.4669260700389105\n",
      "recall:    0.9195402298850575\n",
      "f1:        0.6193548387096774\n",
      "------------------------------------------\n",
      "------------------------------------------\n",
      "Modelo:    KNearest\n",
      "\n",
      "accuracy:  0.7985175202156334\n",
      "precision: 0.4579646017699115\n",
      "recall:    0.7931034482758621\n",
      "f1:        0.5806451612903225\n",
      "------------------------------------------\n",
      "------------------------------------------\n",
      "Modelo:    DecisionTreeClassifier\n",
      "\n",
      "accuracy:  0.8793800539083558\n",
      "precision: 0.6722689075630253\n",
      "recall:    0.6130268199233716\n",
      "f1:        0.6412825651302604\n",
      "------------------------------------------\n",
      "------------------------------------------\n",
      "Modelo:    Random Forest\n",
      "\n",
      "accuracy:  0.883423180592992\n",
      "precision: 0.680327868852459\n",
      "recall:    0.6360153256704981\n",
      "f1:        0.6574257425742575\n",
      "------------------------------------------\n",
      "------------------------------------------\n"
     ]
    }
   ],
   "source": [
    "for nome, model in classifiers.items():\n",
    "    \n",
    "    model.fit(X_over, y_over)\n",
    "    y_pred = model.predict(X_val)\n",
    "    \n",
    "    print(f'Modelo:    {nome}\\n')\n",
    "    print(f\"accuracy:  {accuracy_score(y_val, y_pred)}\")\n",
    "    print(f\"precision: {precision_score(y_val, y_pred)}\")\n",
    "    print(f\"recall:    {recall_score(y_val, y_pred)}\")\n",
    "    print(f\"f1:        {f1_score(y_val, y_pred)}\")\n",
    "    print('---' * 14)\n",
    "    print('---' * 14)"
   ]
  },
  {
   "cell_type": "code",
   "execution_count": 33,
   "id": "880148f5-6e37-44a5-be54-537871d4ad8f",
   "metadata": {},
   "outputs": [
    {
     "name": "stdout",
     "output_type": "stream",
     "text": [
      "Counter({0: 4896, 1: 4896})\n"
     ]
    }
   ],
   "source": [
    "oversample_smote = SMOTE(sampling_strategy='minority')\n",
    "\n",
    "X_smote, y_smote = oversample_smote.fit_resample(X_train, y_train)\n",
    "\n",
    "counter = Counter(y_smote)\n",
    "print(counter)"
   ]
  },
  {
   "cell_type": "code",
   "execution_count": 34,
   "id": "dff864d2-7bae-425e-9fff-c554e4b9aac9",
   "metadata": {},
   "outputs": [
    {
     "name": "stdout",
     "output_type": "stream",
     "text": [
      "Modelo:    LogisiticRegression\n",
      "\n",
      "accuracy:  0.7998652291105122\n",
      "precision: 0.4642857142857143\n",
      "recall:    0.896551724137931\n",
      "f1:        0.611764705882353\n",
      "------------------------------------------\n",
      "------------------------------------------\n",
      "Modelo:    KNearest\n",
      "\n",
      "accuracy:  0.8018867924528302\n",
      "precision: 0.46292134831460674\n",
      "recall:    0.789272030651341\n",
      "f1:        0.5835694050991502\n",
      "------------------------------------------\n",
      "------------------------------------------\n",
      "Modelo:    DecisionTreeClassifier\n",
      "\n",
      "accuracy:  0.878032345013477\n",
      "precision: 0.6265822784810127\n",
      "recall:    0.7586206896551724\n",
      "f1:        0.6863084922010398\n",
      "------------------------------------------\n",
      "------------------------------------------\n",
      "Modelo:    Random Forest\n",
      "\n",
      "accuracy:  0.8679245283018868\n",
      "precision: 0.5931232091690545\n",
      "recall:    0.7931034482758621\n",
      "f1:        0.678688524590164\n",
      "------------------------------------------\n",
      "------------------------------------------\n"
     ]
    }
   ],
   "source": [
    "for nome, model in classifiers.items():\n",
    "    \n",
    "    model.fit(X_smote, y_smote)\n",
    "    y_pred = model.predict(X_val)\n",
    "    \n",
    "    print(f'Modelo:    {nome}\\n')\n",
    "    print(f\"accuracy:  {accuracy_score(y_val, y_pred)}\")\n",
    "    print(f\"precision: {precision_score(y_val, y_pred)}\")\n",
    "    print(f\"recall:    {recall_score(y_val, y_pred)}\")\n",
    "    print(f\"f1:        {f1_score(y_val, y_pred)}\")\n",
    "    print('---' * 14)\n",
    "    print('---' * 14)"
   ]
  },
  {
   "cell_type": "code",
   "execution_count": null,
   "id": "696a0b5e-4f2e-48ff-8cef-811ff56d4adb",
   "metadata": {},
   "outputs": [],
   "source": [
    "#Modelo ajustado e validação cruzada"
   ]
  },
  {
   "cell_type": "code",
   "execution_count": 35,
   "id": "56770bc8-5892-4921-8fee-856caba3fc5d",
   "metadata": {},
   "outputs": [],
   "source": [
    "X_train_array = X_train.values\n",
    "X_val_array = X_val.values\n",
    "y_train_array = y_train.values\n",
    "y_val_array = y_val.values"
   ]
  },
  {
   "cell_type": "code",
   "execution_count": 36,
   "id": "54c58d0f-27b4-4f5a-a8f1-0ea38fa9218a",
   "metadata": {},
   "outputs": [
    {
     "name": "stdout",
     "output_type": "stream",
     "text": [
      "{'class_weight': ['balanced', None],\n",
      " 'max_depth': [3, 4, 5, 6, None],\n",
      " 'max_features': [3, 4, 5, 6, None],\n",
      " 'n_estimators': [3, 5, 10, 100]}\n"
     ]
    }
   ],
   "source": [
    "n_estimators = [3,5,10,100]\n",
    "\n",
    "max_features = [3,4,5,6,None]\n",
    "\n",
    "max_depth = [3,4,5,6,None]\n",
    "\n",
    "class_weight = ['balanced',None]\n",
    "\n",
    "random_grid = {'n_estimators': n_estimators,\n",
    "               'max_features': max_features,\n",
    "               'max_depth': max_depth,\n",
    "               'class_weight': class_weight}\n",
    "\n",
    "pprint(random_grid)"
   ]
  },
  {
   "cell_type": "code",
   "execution_count": 37,
   "id": "25476324-7597-4a63-ba9f-a87f964c7062",
   "metadata": {},
   "outputs": [
    {
     "name": "stdout",
     "output_type": "stream",
     "text": [
      "------------------------------------------\n",
      "melhores estimadores para RF: {'n_estimators': 10, 'max_features': 5, 'max_depth': 6, 'class_weight': None}\n",
      "------------------------------------------\n",
      "Resultados\n",
      "accuracy:  0.903990338657567\n",
      "precision: 0.681687924846036\n",
      "recall:    0.8482057416267942\n",
      "f1:        0.7549567461456839\n",
      "------------------------------------------\n"
     ]
    }
   ],
   "source": [
    "accuracy_lst = []\n",
    "precision_lst = []\n",
    "recall_lst = []\n",
    "f1_lst = []\n",
    "auc_lst = []\n",
    "\n",
    "rf_grid = RandomizedSearchCV(RandomForestClassifier(), random_grid, random_state=42)\n",
    "\n",
    "count = 0\n",
    "\n",
    "for train, test in StratifKfold.split(X_train_array, y_train_array):\n",
    "    \n",
    "    pipeline = imbalanced_make_pipeline(SMOTE(sampling_strategy='minority'), rf_grid)\n",
    "    \n",
    "    model = pipeline.fit(X_train_array[train], y_train_array[train])\n",
    "    \n",
    "    best_est = rf_grid.best_estimator_\n",
    "    \n",
    "    prediction = best_est.predict(X_train_array[test])\n",
    "    \n",
    "    accuracy_lst.append(pipeline.score(X_train_array[test], y_train_array[test]))\n",
    "    precision_lst.append(precision_score(y_train_array[test], prediction))\n",
    "    recall_lst.append(recall_score(y_train_array[test], prediction))\n",
    "    f1_lst.append(f1_score(y_train_array[test], prediction))\n",
    "    auc_lst.append(roc_auc_score(y_train_array[test], prediction))\n",
    "    \n",
    "    count = count + 1\n",
    "\n",
    "\n",
    "print('---' * 14)\n",
    "print(f\"melhores estimadores para RF: {rf_grid.best_params_}\")\n",
    "\n",
    "print('---' * 14)\n",
    "print('Resultados')\n",
    "print(f\"accuracy:  {np.mean(accuracy_lst)}\")\n",
    "print(f\"precision: {np.mean(precision_lst)}\")\n",
    "print(f\"recall:    {np.mean(recall_lst)}\")\n",
    "print(f\"f1:        {np.mean(f1_lst)}\")\n",
    "print('---' * 14)\n"
   ]
  },
  {
   "cell_type": "code",
   "execution_count": null,
   "id": "a1c36452-6253-4749-b4bf-62f2fd9fa784",
   "metadata": {},
   "outputs": [],
   "source": [
    "#Modelo final e matriz de confusão"
   ]
  },
  {
   "cell_type": "code",
   "execution_count": 38,
   "id": "b51ad3d4-e77f-4ed6-9e19-6baf8a2edf54",
   "metadata": {},
   "outputs": [],
   "source": [
    "X_all = df_train.iloc[:,7:13]\n",
    "y_all = df_train.iloc[:,13]\n",
    "\n",
    "final_model = rf_grid.best_estimator_\n",
    "\n",
    "pipeline = imbalanced_make_pipeline(SMOTE(sampling_strategy='minority'), final_model)\n",
    "\n",
    "model = pipeline.fit(X_all, y_all)"
   ]
  },
  {
   "cell_type": "code",
   "execution_count": 39,
   "id": "d4884bdc-b209-4521-8966-85e551e70faa",
   "metadata": {},
   "outputs": [
    {
     "name": "stdout",
     "output_type": "stream",
     "text": [
      "accuracy:  0.90625\n",
      "precision: 0.6391509433962265\n",
      "recall:    0.928082191780822\n",
      "f1:        0.7569832402234636\n"
     ]
    }
   ],
   "source": [
    "X_test = df_test.iloc[:,7:13]\n",
    "y_test = df_test.iloc[:,13]\n",
    "\n",
    "y_pred_test = model.predict(X_test)\n",
    "\n",
    "print(f\"accuracy:  {accuracy_score(y_test, y_pred_test)}\")\n",
    "print(f\"precision: {precision_score(y_test, y_pred_test)}\")\n",
    "print(f\"recall:    {recall_score(y_test, y_pred_test)}\")\n",
    "print(f\"f1:        {f1_score(y_test, y_pred_test)}\")"
   ]
  },
  {
   "cell_type": "code",
   "execution_count": 40,
   "id": "815f9899-2ec2-4216-90d5-1152320c236e",
   "metadata": {},
   "outputs": [
    {
     "data": {
      "image/png": "[encoded data removed]",
      "text/plain": [
       "<Figure size 288x288 with 1 Axes>"
      ]
     },
     "metadata": {
      "needs_background": "light"
     },
     "output_type": "display_data"
    }
   ],
   "source": [
    "plt.figure(figsize=(4,4))\n",
    "\n",
    "sns.heatmap(confusion_matrix(y_test, y_pred_test), annot=True, cmap=plt.cm.copper, fmt='g', cbar=False)\n",
    "plt.title(\"Matriz de Confusão\", fontsize=16, fontweight='bold')\n",
    "plt.show()\n"
   ]
  },
  {
   "cell_type": "code",
   "execution_count": null,
   "id": "af9d8888-0607-4d5d-b33d-343381e0d397",
   "metadata": {},
   "outputs": [],
   "source": []
  },
  {
   "cell_type": "code",
   "execution_count": null,
   "id": "0bb671ca-a790-4e6c-ae1f-217c3a91ee8e",
   "metadata": {},
   "outputs": [],
   "source": []
  },
  {
   "cell_type": "code",
   "execution_count": null,
   "id": "1b3c032d-e2c4-464c-9b34-71215a79721f",
   "metadata": {},
   "outputs": [],
   "source": []
  },
  {
   "cell_type": "code",
   "execution_count": null,
   "id": "aebf8dea-e74e-44a5-a813-1c56e5a7a450",
   "metadata": {},
   "outputs": [],
   "source": []
  },
  {
   "cell_type": "code",
   "execution_count": null,
   "id": "20423b0d-a46d-45f5-bdbc-bebc3a775a0b",
   "metadata": {},
   "outputs": [],
   "source": []
  },
  {
   "cell_type": "code",
   "execution_count": null,
   "id": "8dc95c01-79fd-4077-ba65-2c31cc36c97f",
   "metadata": {},
   "outputs": [],
   "source": []
  },
  {
   "cell_type": "code",
   "execution_count": null,
   "id": "9847be68-752f-4dda-8112-b47eedae10ac",
   "metadata": {},
   "outputs": [],
   "source": []
  },
  {
   "cell_type": "code",
   "execution_count": null,
   "id": "2ebbddd8-0310-4151-b4ef-0efea4c49c57",
   "metadata": {},
   "outputs": [],
   "source": []
  },
  {
   "cell_type": "code",
   "execution_count": null,
   "id": "b9600a80-5f85-4880-95bb-f1ee0ddaa2c9",
   "metadata": {},
   "outputs": [],
   "source": []
  }
 ],
 "metadata": {
  "kernelspec": {
   "display_name": "Python 3",
   "language": "python",
   "name": "python3"
  },
  "language_info": {
   "codemirror_mode": {
    "name": "ipython",
    "version": 3
   },
   "file_extension": ".py",
   "mimetype": "text/x-python",
   "name": "python",
   "nbconvert_exporter": "python",
   "pygments_lexer": "ipython3",
   "version": "3.8.8"
  }
 },
 "nbformat": 4,
 "nbformat_minor": 5
}
